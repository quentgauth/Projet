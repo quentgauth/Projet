{
 "cells": [
  {
   "cell_type": "markdown",
   "metadata": {},
   "source": [
    "# Other methods\n",
    "\n",
    "\n",
    "In this file, we will try some methods, find on the web to find a more efficient model\n",
    "\n",
    "\n",
    "\n",
    "Documentation:\n",
    "\n",
    "https://huggingface.co/blog/Valerii-Knowledgator/multi-label-classification\n",
    "\n",
    "https://github.com/dtolk/multilabel-BERT (seek this one particuliarly)\n",
    "\n",
    "pre-trained model from transformers"
   ]
  }
 ],
 "metadata": {
  "language_info": {
   "name": "python"
  }
 },
 "nbformat": 4,
 "nbformat_minor": 2
}
